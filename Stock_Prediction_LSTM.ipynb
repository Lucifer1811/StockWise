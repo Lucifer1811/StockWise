{
 "cells": [
  {
   "cell_type": "markdown",
   "metadata": {},
   "source": [
    "### Stock Market Prediction And Forecasting Using Stacked LSTM"
   ]
  },
  {
   "cell_type": "code",
   "execution_count": 1,
   "metadata": {},
   "outputs": [],
   "source": [
    "### Keras and Tensorflow >2.0"
   ]
  },
  {
   "cell_type": "code",
   "execution_count": 2,
   "metadata": {},
   "outputs": [],
   "source": [
    "### Data Collection\n",
    "import pandas_datareader as pdr\n",
    "key=\"4f8693e94e9fcd9263c87898897c7da04213bb4c\""
   ]
  },
  {
   "cell_type": "code",
   "execution_count": 3,
   "metadata": {},
   "outputs": [],
   "source": [
    "# df = pdr.get_data_tiingo('AAPL', api_key=key)"
   ]
  },
  {
   "cell_type": "code",
   "execution_count": 4,
   "metadata": {},
   "outputs": [],
   "source": [
    "# df.to_csv('AAPL.csv')"
   ]
  },
  {
   "cell_type": "code",
   "execution_count": 5,
   "metadata": {},
   "outputs": [],
   "source": [
    "import pandas as pd"
   ]
  },
  {
   "cell_type": "code",
   "execution_count": 6,
   "metadata": {},
   "outputs": [],
   "source": [
    "df=pd.read_csv('Tesla.csv')"
   ]
  },
  {
   "cell_type": "code",
   "execution_count": 7,
   "metadata": {},
   "outputs": [
    {
     "data": {
      "text/html": [
       "<div>\n",
       "<style scoped>\n",
       "    .dataframe tbody tr th:only-of-type {\n",
       "        vertical-align: middle;\n",
       "    }\n",
       "\n",
       "    .dataframe tbody tr th {\n",
       "        vertical-align: top;\n",
       "    }\n",
       "\n",
       "    .dataframe thead th {\n",
       "        text-align: right;\n",
       "    }\n",
       "</style>\n",
       "<table border=\"1\" class=\"dataframe\">\n",
       "  <thead>\n",
       "    <tr style=\"text-align: right;\">\n",
       "      <th></th>\n",
       "      <th>Date</th>\n",
       "      <th>Open</th>\n",
       "      <th>High</th>\n",
       "      <th>Low</th>\n",
       "      <th>Close</th>\n",
       "      <th>Adj Close</th>\n",
       "      <th>Volume</th>\n",
       "    </tr>\n",
       "  </thead>\n",
       "  <tbody>\n",
       "    <tr>\n",
       "      <th>0</th>\n",
       "      <td>2010-06-29</td>\n",
       "      <td>19.000000</td>\n",
       "      <td>25.00</td>\n",
       "      <td>17.540001</td>\n",
       "      <td>23.889999</td>\n",
       "      <td>23.889999</td>\n",
       "      <td>18766300</td>\n",
       "    </tr>\n",
       "    <tr>\n",
       "      <th>1</th>\n",
       "      <td>2010-06-30</td>\n",
       "      <td>25.790001</td>\n",
       "      <td>30.42</td>\n",
       "      <td>23.299999</td>\n",
       "      <td>23.830000</td>\n",
       "      <td>23.830000</td>\n",
       "      <td>17187100</td>\n",
       "    </tr>\n",
       "    <tr>\n",
       "      <th>2</th>\n",
       "      <td>2010-07-01</td>\n",
       "      <td>25.000000</td>\n",
       "      <td>25.92</td>\n",
       "      <td>20.270000</td>\n",
       "      <td>21.959999</td>\n",
       "      <td>21.959999</td>\n",
       "      <td>8218800</td>\n",
       "    </tr>\n",
       "    <tr>\n",
       "      <th>3</th>\n",
       "      <td>2010-07-02</td>\n",
       "      <td>23.000000</td>\n",
       "      <td>23.10</td>\n",
       "      <td>18.709999</td>\n",
       "      <td>19.200001</td>\n",
       "      <td>19.200001</td>\n",
       "      <td>5139800</td>\n",
       "    </tr>\n",
       "    <tr>\n",
       "      <th>4</th>\n",
       "      <td>2010-07-06</td>\n",
       "      <td>20.000000</td>\n",
       "      <td>20.00</td>\n",
       "      <td>15.830000</td>\n",
       "      <td>16.110001</td>\n",
       "      <td>16.110001</td>\n",
       "      <td>6866900</td>\n",
       "    </tr>\n",
       "  </tbody>\n",
       "</table>\n",
       "</div>"
      ],
      "text/plain": [
       "         Date       Open   High        Low      Close  Adj Close    Volume\n",
       "0  2010-06-29  19.000000  25.00  17.540001  23.889999  23.889999  18766300\n",
       "1  2010-06-30  25.790001  30.42  23.299999  23.830000  23.830000  17187100\n",
       "2  2010-07-01  25.000000  25.92  20.270000  21.959999  21.959999   8218800\n",
       "3  2010-07-02  23.000000  23.10  18.709999  19.200001  19.200001   5139800\n",
       "4  2010-07-06  20.000000  20.00  15.830000  16.110001  16.110001   6866900"
      ]
     },
     "execution_count": 7,
     "metadata": {},
     "output_type": "execute_result"
    }
   ],
   "source": [
    "df.head()"
   ]
  },
  {
   "cell_type": "code",
   "execution_count": 8,
   "metadata": {},
   "outputs": [
    {
     "data": {
      "text/html": [
       "<div>\n",
       "<style scoped>\n",
       "    .dataframe tbody tr th:only-of-type {\n",
       "        vertical-align: middle;\n",
       "    }\n",
       "\n",
       "    .dataframe tbody tr th {\n",
       "        vertical-align: top;\n",
       "    }\n",
       "\n",
       "    .dataframe thead th {\n",
       "        text-align: right;\n",
       "    }\n",
       "</style>\n",
       "<table border=\"1\" class=\"dataframe\">\n",
       "  <thead>\n",
       "    <tr style=\"text-align: right;\">\n",
       "      <th></th>\n",
       "      <th>Date</th>\n",
       "      <th>Open</th>\n",
       "      <th>High</th>\n",
       "      <th>Low</th>\n",
       "      <th>Close</th>\n",
       "      <th>Adj Close</th>\n",
       "      <th>Volume</th>\n",
       "    </tr>\n",
       "  </thead>\n",
       "  <tbody>\n",
       "    <tr>\n",
       "      <th>2389</th>\n",
       "      <td>2019-12-24</td>\n",
       "      <td>418.359985</td>\n",
       "      <td>425.470001</td>\n",
       "      <td>412.690002</td>\n",
       "      <td>425.250000</td>\n",
       "      <td>425.250000</td>\n",
       "      <td>8054700</td>\n",
       "    </tr>\n",
       "    <tr>\n",
       "      <th>2390</th>\n",
       "      <td>2019-12-26</td>\n",
       "      <td>427.910004</td>\n",
       "      <td>433.480011</td>\n",
       "      <td>426.350006</td>\n",
       "      <td>430.940002</td>\n",
       "      <td>430.940002</td>\n",
       "      <td>10633900</td>\n",
       "    </tr>\n",
       "    <tr>\n",
       "      <th>2391</th>\n",
       "      <td>2019-12-27</td>\n",
       "      <td>435.000000</td>\n",
       "      <td>435.309998</td>\n",
       "      <td>426.109985</td>\n",
       "      <td>430.380005</td>\n",
       "      <td>430.380005</td>\n",
       "      <td>9945700</td>\n",
       "    </tr>\n",
       "    <tr>\n",
       "      <th>2392</th>\n",
       "      <td>2019-12-30</td>\n",
       "      <td>428.790009</td>\n",
       "      <td>429.000000</td>\n",
       "      <td>409.260010</td>\n",
       "      <td>414.700012</td>\n",
       "      <td>414.700012</td>\n",
       "      <td>12586400</td>\n",
       "    </tr>\n",
       "    <tr>\n",
       "      <th>2393</th>\n",
       "      <td>2019-12-31</td>\n",
       "      <td>405.000000</td>\n",
       "      <td>421.290009</td>\n",
       "      <td>402.079987</td>\n",
       "      <td>418.329987</td>\n",
       "      <td>418.329987</td>\n",
       "      <td>10285700</td>\n",
       "    </tr>\n",
       "  </tbody>\n",
       "</table>\n",
       "</div>"
      ],
      "text/plain": [
       "            Date        Open        High         Low       Close   Adj Close   \n",
       "2389  2019-12-24  418.359985  425.470001  412.690002  425.250000  425.250000  \\\n",
       "2390  2019-12-26  427.910004  433.480011  426.350006  430.940002  430.940002   \n",
       "2391  2019-12-27  435.000000  435.309998  426.109985  430.380005  430.380005   \n",
       "2392  2019-12-30  428.790009  429.000000  409.260010  414.700012  414.700012   \n",
       "2393  2019-12-31  405.000000  421.290009  402.079987  418.329987  418.329987   \n",
       "\n",
       "        Volume  \n",
       "2389   8054700  \n",
       "2390  10633900  \n",
       "2391   9945700  \n",
       "2392  12586400  \n",
       "2393  10285700  "
      ]
     },
     "execution_count": 8,
     "metadata": {},
     "output_type": "execute_result"
    }
   ],
   "source": [
    "df.tail()"
   ]
  },
  {
   "cell_type": "code",
   "execution_count": 9,
   "metadata": {},
   "outputs": [],
   "source": [
    "df1=df.reset_index()['Close']"
   ]
  },
  {
   "cell_type": "code",
   "execution_count": 10,
   "metadata": {},
   "outputs": [
    {
     "data": {
      "text/plain": [
       "0        23.889999\n",
       "1        23.830000\n",
       "2        21.959999\n",
       "3        19.200001\n",
       "4        16.110001\n",
       "           ...    \n",
       "2389    425.250000\n",
       "2390    430.940002\n",
       "2391    430.380005\n",
       "2392    414.700012\n",
       "2393    418.329987\n",
       "Name: Close, Length: 2394, dtype: float64"
      ]
     },
     "execution_count": 10,
     "metadata": {},
     "output_type": "execute_result"
    }
   ],
   "source": [
    "df1"
   ]
  },
  {
   "cell_type": "code",
   "execution_count": 11,
   "metadata": {},
   "outputs": [
    {
     "data": {
      "text/plain": [
       "[<matplotlib.lines.Line2D at 0x28765944b10>]"
      ]
     },
     "execution_count": 11,
     "metadata": {},
     "output_type": "execute_result"
    },
    {
     "data": {
      "image/png": "[encoded data removed]",
      "text/plain": [
       "<Figure size 640x480 with 1 Axes>"
      ]
     },
     "metadata": {},
     "output_type": "display_data"
    }
   ],
   "source": [
    "import matplotlib.pyplot as plt\n",
    "plt.plot(df1)"
   ]
  },
  {
   "cell_type": "code",
   "execution_count": 12,
   "metadata": {},
   "outputs": [],
   "source": [
    "### LSTM are sensitive to the scale of the data. so we apply MinMax scaler "
   ]
  },
  {
   "cell_type": "code",
   "execution_count": 13,
   "metadata": {},
   "outputs": [],
   "source": [
    "import numpy as np"
   ]
  },
  {
   "cell_type": "code",
   "execution_count": 14,
   "metadata": {},
   "outputs": [
    {
     "data": {
      "text/plain": [
       "0        23.889999\n",
       "1        23.830000\n",
       "2        21.959999\n",
       "3        19.200001\n",
       "4        16.110001\n",
       "           ...    \n",
       "2389    425.250000\n",
       "2390    430.940002\n",
       "2391    430.380005\n",
       "2392    414.700012\n",
       "2393    418.329987\n",
       "Name: Close, Length: 2394, dtype: float64"
      ]
     },
     "execution_count": 14,
     "metadata": {},
     "output_type": "execute_result"
    }
   ],
   "source": [
    "df1"
   ]
  },
  {
   "cell_type": "code",
   "execution_count": 15,
   "metadata": {},
   "outputs": [],
   "source": [
    "from sklearn.preprocessing import MinMaxScaler\n",
    "scaler=MinMaxScaler(feature_range=(0,1))\n",
    "df1=scaler.fit_transform(np.array(df1).reshape(-1,1))"
   ]
  },
  {
   "cell_type": "code",
   "execution_count": 16,
   "metadata": {},
   "outputs": [
    {
     "name": "stdout",
     "output_type": "stream",
     "text": [
      "[[0.0194874 ]\n",
      " [0.01934287]\n",
      " [0.01483837]\n",
      " ...\n",
      " [0.99865106]\n",
      " [0.96088069]\n",
      " [0.96962467]]\n"
     ]
    }
   ],
   "source": [
    "print(df1)"
   ]
  },
  {
   "cell_type": "code",
   "execution_count": 17,
   "metadata": {},
   "outputs": [],
   "source": [
    "##splitting dataset into train and test split\n",
    "training_size=int(len(df1)*0.65)\n",
    "test_size=len(df1)-training_size\n",
    "train_data,test_data=df1[0:training_size,:],df1[training_size:len(df1),:1]"
   ]
  },
  {
   "cell_type": "code",
   "execution_count": 18,
   "metadata": {},
   "outputs": [
    {
     "data": {
      "text/plain": [
       "(1556, 838)"
      ]
     },
     "execution_count": 18,
     "metadata": {},
     "output_type": "execute_result"
    }
   ],
   "source": [
    "training_size,test_size"
   ]
  },
  {
   "cell_type": "code",
   "execution_count": 19,
   "metadata": {},
   "outputs": [
    {
     "data": {
      "text/plain": [
       "array([[0.0194874 ],\n",
       "       [0.01934287],\n",
       "       [0.01483837],\n",
       "       ...,\n",
       "       [0.48031988],\n",
       "       [0.47102181],\n",
       "       [0.47263572]])"
      ]
     },
     "execution_count": 19,
     "metadata": {},
     "output_type": "execute_result"
    }
   ],
   "source": [
    "train_data"
   ]
  },
  {
   "cell_type": "code",
   "execution_count": 20,
   "metadata": {},
   "outputs": [],
   "source": [
    "import numpy\n",
    "# convert an array of values into a dataset matrix\n",
    "def create_dataset(dataset, time_step=1):\n",
    "\tdataX, dataY = [], []\n",
    "\tfor i in range(len(dataset)-time_step-1):\n",
    "\t\ta = dataset[i:(i+time_step), 0]   ###i=0, 0,1,2,3-----99   100 \n",
    "\t\tdataX.append(a)\n",
    "\t\tdataY.append(dataset[i + time_step, 0])\n",
    "\treturn numpy.array(dataX), numpy.array(dataY)"
   ]
  },
  {
   "cell_type": "code",
   "execution_count": 21,
   "metadata": {},
   "outputs": [],
   "source": [
    "# reshape into X=t,t+1,t+2,t+3 and Y=t+4\n",
    "time_step = 100\n",
    "X_train, y_train = create_dataset(train_data, time_step)\n",
    "X_test, ytest = create_dataset(test_data, time_step)"
   ]
  },
  {
   "cell_type": "code",
   "execution_count": 22,
   "metadata": {},
   "outputs": [
    {
     "name": "stdout",
     "output_type": "stream",
     "text": [
      "(1455, 100)\n",
      "(1455,)\n"
     ]
    },
    {
     "data": {
      "text/plain": [
       "(None, None)"
      ]
     },
     "execution_count": 22,
     "metadata": {},
     "output_type": "execute_result"
    }
   ],
   "source": [
    "print(X_train.shape), print(y_train.shape)"
   ]
  },
  {
   "cell_type": "code",
   "execution_count": 23,
   "metadata": {},
   "outputs": [
    {
     "name": "stdout",
     "output_type": "stream",
     "text": [
      "(737, 100)\n",
      "(737,)\n"
     ]
    },
    {
     "data": {
      "text/plain": [
       "(None, None)"
      ]
     },
     "execution_count": 23,
     "metadata": {},
     "output_type": "execute_result"
    }
   ],
   "source": [
    "print(X_test.shape), print(ytest.shape)"
   ]
  },
  {
   "cell_type": "code",
   "execution_count": 24,
   "metadata": {},
   "outputs": [],
   "source": [
    "# reshape input to be [samples, time steps, features] which is required for LSTM\n",
    "X_train =X_train.reshape(X_train.shape[0],X_train.shape[1] , 1)\n",
    "X_test = X_test.reshape(X_test.shape[0],X_test.shape[1] , 1)"
   ]
  },
  {
   "cell_type": "code",
   "execution_count": 25,
   "metadata": {},
   "outputs": [],
   "source": [
    "### Create the Stacked LSTM model\n",
    "from tensorflow.keras.models import Sequential\n",
    "from tensorflow.keras.layers import Dense\n",
    "from tensorflow.keras.layers import LSTM"
   ]
  },
  {
   "cell_type": "code",
   "execution_count": 26,
   "metadata": {},
   "outputs": [],
   "source": [
    "model=Sequential()\n",
    "model.add(LSTM(50,return_sequences=True,input_shape=(100,1)))\n",
    "model.add(LSTM(50,return_sequences=True))\n",
    "model.add(LSTM(50))\n",
    "model.add(Dense(1))\n",
    "model.compile(loss='mean_squared_error',optimizer='adam')\n"
   ]
  },
  {
   "cell_type": "code",
   "execution_count": 27,
   "metadata": {},
   "outputs": [
    {
     "name": "stdout",
     "output_type": "stream",
     "text": [
      "Model: \"sequential\"\n",
      "_________________________________________________________________\n",
      " Layer (type)                Output Shape              Param #   \n",
      "=================================================================\n",
      " lstm (LSTM)                 (None, 100, 50)           10400     \n",
      "                                                                 \n",
      " lstm_1 (LSTM)               (None, 100, 50)           20200     \n",
      "                                                                 \n",
      " lstm_2 (LSTM)               (None, 50)                20200     \n",
      "                                                                 \n",
      " dense (Dense)               (None, 1)                 51        \n",
      "                                                                 \n",
      "=================================================================\n",
      "Total params: 50,851\n",
      "Trainable params: 50,851\n",
      "Non-trainable params: 0\n",
      "_________________________________________________________________\n"
     ]
    }
   ],
   "source": [
    "model.summary()"
   ]
  },
  {
   "cell_type": "code",
   "execution_count": 28,
   "metadata": {},
   "outputs": [
    {
     "name": "stdout",
     "output_type": "stream",
     "text": [
      "Model: \"sequential\"\n",
      "_________________________________________________________________\n",
      " Layer (type)                Output Shape              Param #   \n",
      "=================================================================\n",
      " lstm (LSTM)                 (None, 100, 50)           10400     \n",
      "                                                                 \n",
      " lstm_1 (LSTM)               (None, 100, 50)           20200     \n",
      "                                                                 \n",
      " lstm_2 (LSTM)               (None, 50)                20200     \n",
      "                                                                 \n",
      " dense (Dense)               (None, 1)                 51        \n",
      "                                                                 \n",
      "=================================================================\n",
      "Total params: 50,851\n",
      "Trainable params: 50,851\n",
      "Non-trainable params: 0\n",
      "_________________________________________________________________\n"
     ]
    }
   ],
   "source": [
    "model.summary()"
   ]
  },
  {
   "cell_type": "code",
   "execution_count": null,
   "metadata": {},
   "outputs": [],
   "source": []
  },
  {
   "cell_type": "code",
   "execution_count": 29,
   "metadata": {},
   "outputs": [
    {
     "name": "stdout",
     "output_type": "stream",
     "text": [
      "Epoch 1/100\n",
      "23/23 [==============================] - 13s 330ms/step - loss: 0.0191 - val_loss: 0.0065\n",
      "Epoch 2/100\n",
      "23/23 [==============================] - 6s 277ms/step - loss: 0.0019 - val_loss: 0.0072\n",
      "Epoch 3/100\n",
      "23/23 [==============================] - 6s 271ms/step - loss: 0.0011 - val_loss: 0.0040\n",
      "Epoch 4/100\n",
      "23/23 [==============================] - 6s 267ms/step - loss: 0.0010 - val_loss: 0.0052\n",
      "Epoch 5/100\n",
      "23/23 [==============================] - 6s 268ms/step - loss: 9.8036e-04 - val_loss: 0.0053\n",
      "Epoch 6/100\n",
      "23/23 [==============================] - 6s 256ms/step - loss: 9.2080e-04 - val_loss: 0.0044\n",
      "Epoch 7/100\n",
      "23/23 [==============================] - 6s 261ms/step - loss: 8.8480e-04 - val_loss: 0.0047\n",
      "Epoch 8/100\n",
      "23/23 [==============================] - 5s 234ms/step - loss: 8.4528e-04 - val_loss: 0.0042\n",
      "Epoch 9/100\n",
      "23/23 [==============================] - 7s 319ms/step - loss: 8.1983e-04 - val_loss: 0.0040\n",
      "Epoch 10/100\n",
      "23/23 [==============================] - 7s 320ms/step - loss: 8.1007e-04 - val_loss: 0.0069\n",
      "Epoch 11/100\n",
      "23/23 [==============================] - 7s 325ms/step - loss: 7.8082e-04 - val_loss: 0.0043\n",
      "Epoch 12/100\n",
      "23/23 [==============================] - 8s 345ms/step - loss: 8.0251e-04 - val_loss: 0.0084\n",
      "Epoch 13/100\n",
      "23/23 [==============================] - 8s 343ms/step - loss: 7.6118e-04 - val_loss: 0.0049\n",
      "Epoch 14/100\n",
      "23/23 [==============================] - 8s 341ms/step - loss: 6.7076e-04 - val_loss: 0.0039\n",
      "Epoch 15/100\n",
      "23/23 [==============================] - 8s 342ms/step - loss: 6.7173e-04 - val_loss: 0.0036\n",
      "Epoch 16/100\n",
      "23/23 [==============================] - 8s 351ms/step - loss: 6.4168e-04 - val_loss: 0.0050\n",
      "Epoch 17/100\n",
      "23/23 [==============================] - 8s 348ms/step - loss: 6.4951e-04 - val_loss: 0.0053\n",
      "Epoch 18/100\n",
      "23/23 [==============================] - 8s 335ms/step - loss: 6.1045e-04 - val_loss: 0.0061\n",
      "Epoch 19/100\n",
      "23/23 [==============================] - 8s 341ms/step - loss: 6.0963e-04 - val_loss: 0.0080\n",
      "Epoch 20/100\n",
      "23/23 [==============================] - 8s 338ms/step - loss: 6.7943e-04 - val_loss: 0.0064\n",
      "Epoch 21/100\n",
      "23/23 [==============================] - 7s 315ms/step - loss: 5.9795e-04 - val_loss: 0.0044\n",
      "Epoch 22/100\n",
      "23/23 [==============================] - 7s 312ms/step - loss: 5.7153e-04 - val_loss: 0.0044\n",
      "Epoch 23/100\n",
      "23/23 [==============================] - 7s 302ms/step - loss: 5.1600e-04 - val_loss: 0.0049\n",
      "Epoch 24/100\n",
      "23/23 [==============================] - 7s 318ms/step - loss: 5.1967e-04 - val_loss: 0.0045\n",
      "Epoch 25/100\n",
      "23/23 [==============================] - 8s 336ms/step - loss: 4.9538e-04 - val_loss: 0.0033\n",
      "Epoch 26/100\n",
      "23/23 [==============================] - 6s 265ms/step - loss: 4.7710e-04 - val_loss: 0.0043\n",
      "Epoch 27/100\n",
      "23/23 [==============================] - 6s 252ms/step - loss: 4.6684e-04 - val_loss: 0.0028\n",
      "Epoch 28/100\n",
      "23/23 [==============================] - 5s 232ms/step - loss: 5.3159e-04 - val_loss: 0.0058\n",
      "Epoch 29/100\n",
      "23/23 [==============================] - 6s 247ms/step - loss: 5.5945e-04 - val_loss: 0.0042\n",
      "Epoch 30/100\n",
      "23/23 [==============================] - 6s 264ms/step - loss: 4.8778e-04 - val_loss: 0.0035\n",
      "Epoch 31/100\n",
      "23/23 [==============================] - 6s 256ms/step - loss: 4.4735e-04 - val_loss: 0.0024\n",
      "Epoch 32/100\n",
      "23/23 [==============================] - 6s 260ms/step - loss: 4.4134e-04 - val_loss: 0.0030\n",
      "Epoch 33/100\n",
      "23/23 [==============================] - 6s 254ms/step - loss: 4.2959e-04 - val_loss: 0.0029\n",
      "Epoch 34/100\n",
      "23/23 [==============================] - 6s 249ms/step - loss: 4.2617e-04 - val_loss: 0.0016\n",
      "Epoch 35/100\n",
      "23/23 [==============================] - 7s 286ms/step - loss: 4.8084e-04 - val_loss: 0.0019\n",
      "Epoch 36/100\n",
      "23/23 [==============================] - 6s 254ms/step - loss: 3.9310e-04 - val_loss: 0.0020\n",
      "Epoch 37/100\n",
      "23/23 [==============================] - 6s 264ms/step - loss: 3.8808e-04 - val_loss: 0.0020\n",
      "Epoch 38/100\n",
      "23/23 [==============================] - 6s 260ms/step - loss: 4.1662e-04 - val_loss: 0.0033\n",
      "Epoch 39/100\n",
      "23/23 [==============================] - 6s 264ms/step - loss: 3.9399e-04 - val_loss: 0.0024\n",
      "Epoch 40/100\n",
      "23/23 [==============================] - 6s 260ms/step - loss: 3.7089e-04 - val_loss: 0.0039\n",
      "Epoch 41/100\n",
      "23/23 [==============================] - 6s 253ms/step - loss: 3.9801e-04 - val_loss: 0.0016\n",
      "Epoch 42/100\n",
      "23/23 [==============================] - 6s 255ms/step - loss: 4.0306e-04 - val_loss: 0.0014\n",
      "Epoch 43/100\n",
      "23/23 [==============================] - 6s 255ms/step - loss: 3.5703e-04 - val_loss: 0.0022\n",
      "Epoch 44/100\n",
      "23/23 [==============================] - 8s 331ms/step - loss: 3.5862e-04 - val_loss: 0.0014\n",
      "Epoch 45/100\n",
      "23/23 [==============================] - 8s 346ms/step - loss: 4.1808e-04 - val_loss: 0.0011\n",
      "Epoch 46/100\n",
      "23/23 [==============================] - 8s 345ms/step - loss: 3.9808e-04 - val_loss: 0.0017\n",
      "Epoch 47/100\n",
      "23/23 [==============================] - 8s 351ms/step - loss: 3.1980e-04 - val_loss: 0.0020\n",
      "Epoch 48/100\n",
      "23/23 [==============================] - 7s 301ms/step - loss: 2.9610e-04 - val_loss: 0.0014\n",
      "Epoch 49/100\n",
      "23/23 [==============================] - 6s 276ms/step - loss: 2.9063e-04 - val_loss: 0.0011\n",
      "Epoch 50/100\n",
      "23/23 [==============================] - 8s 345ms/step - loss: 2.9290e-04 - val_loss: 0.0012\n",
      "Epoch 51/100\n",
      "23/23 [==============================] - 8s 331ms/step - loss: 2.8782e-04 - val_loss: 0.0010\n",
      "Epoch 52/100\n",
      "23/23 [==============================] - 8s 346ms/step - loss: 2.8103e-04 - val_loss: 9.4000e-04\n",
      "Epoch 53/100\n",
      "23/23 [==============================] - 8s 332ms/step - loss: 3.0587e-04 - val_loss: 0.0019\n",
      "Epoch 54/100\n",
      "23/23 [==============================] - 8s 346ms/step - loss: 2.6708e-04 - val_loss: 0.0013\n",
      "Epoch 55/100\n",
      "23/23 [==============================] - 8s 351ms/step - loss: 2.4929e-04 - val_loss: 0.0011\n",
      "Epoch 56/100\n",
      "23/23 [==============================] - 8s 342ms/step - loss: 2.5520e-04 - val_loss: 9.3685e-04\n",
      "Epoch 57/100\n",
      "23/23 [==============================] - 8s 348ms/step - loss: 2.4808e-04 - val_loss: 0.0017\n",
      "Epoch 58/100\n",
      "23/23 [==============================] - 8s 351ms/step - loss: 2.7401e-04 - val_loss: 9.4212e-04\n",
      "Epoch 59/100\n",
      "23/23 [==============================] - 8s 340ms/step - loss: 2.3426e-04 - val_loss: 0.0015\n",
      "Epoch 60/100\n",
      "23/23 [==============================] - 8s 327ms/step - loss: 2.3642e-04 - val_loss: 8.8022e-04\n",
      "Epoch 61/100\n",
      "23/23 [==============================] - 8s 346ms/step - loss: 2.2064e-04 - val_loss: 0.0012\n",
      "Epoch 62/100\n",
      "23/23 [==============================] - 8s 353ms/step - loss: 2.3480e-04 - val_loss: 0.0025\n",
      "Epoch 63/100\n",
      "23/23 [==============================] - 8s 337ms/step - loss: 3.3514e-04 - val_loss: 7.6817e-04\n",
      "Epoch 64/100\n",
      "23/23 [==============================] - 8s 338ms/step - loss: 2.2015e-04 - val_loss: 0.0014\n",
      "Epoch 65/100\n",
      "23/23 [==============================] - 8s 334ms/step - loss: 2.1629e-04 - val_loss: 8.5511e-04\n",
      "Epoch 66/100\n",
      "23/23 [==============================] - 8s 337ms/step - loss: 2.8133e-04 - val_loss: 0.0011\n",
      "Epoch 67/100\n",
      "23/23 [==============================] - 7s 321ms/step - loss: 2.2108e-04 - val_loss: 7.6992e-04\n",
      "Epoch 68/100\n",
      "23/23 [==============================] - 8s 335ms/step - loss: 2.3850e-04 - val_loss: 6.6378e-04\n",
      "Epoch 69/100\n",
      "23/23 [==============================] - 8s 334ms/step - loss: 1.9877e-04 - val_loss: 7.1150e-04\n",
      "Epoch 70/100\n",
      "23/23 [==============================] - 8s 341ms/step - loss: 1.8900e-04 - val_loss: 0.0017\n",
      "Epoch 71/100\n",
      "23/23 [==============================] - 8s 338ms/step - loss: 2.6466e-04 - val_loss: 6.3201e-04\n",
      "Epoch 72/100\n",
      "23/23 [==============================] - 8s 337ms/step - loss: 2.0104e-04 - val_loss: 0.0015\n",
      "Epoch 73/100\n",
      "23/23 [==============================] - 8s 349ms/step - loss: 2.1795e-04 - val_loss: 7.2654e-04\n",
      "Epoch 74/100\n",
      "23/23 [==============================] - 8s 351ms/step - loss: 2.0345e-04 - val_loss: 7.1573e-04\n",
      "Epoch 75/100\n",
      "23/23 [==============================] - 8s 352ms/step - loss: 1.7582e-04 - val_loss: 0.0011\n",
      "Epoch 76/100\n",
      "23/23 [==============================] - 8s 350ms/step - loss: 1.7452e-04 - val_loss: 6.9056e-04\n",
      "Epoch 77/100\n",
      "23/23 [==============================] - 8s 346ms/step - loss: 1.8818e-04 - val_loss: 6.0272e-04\n",
      "Epoch 78/100\n",
      "23/23 [==============================] - 8s 352ms/step - loss: 1.6243e-04 - val_loss: 5.9541e-04\n",
      "Epoch 79/100\n",
      "23/23 [==============================] - 8s 335ms/step - loss: 1.8147e-04 - val_loss: 5.7223e-04\n",
      "Epoch 80/100\n",
      "23/23 [==============================] - 8s 334ms/step - loss: 1.7491e-04 - val_loss: 0.0014\n",
      "Epoch 81/100\n",
      "23/23 [==============================] - 8s 331ms/step - loss: 1.9688e-04 - val_loss: 7.7085e-04\n",
      "Epoch 82/100\n",
      "23/23 [==============================] - 8s 335ms/step - loss: 1.7380e-04 - val_loss: 6.0999e-04\n",
      "Epoch 83/100\n",
      "23/23 [==============================] - 8s 343ms/step - loss: 2.1349e-04 - val_loss: 7.1226e-04\n",
      "Epoch 84/100\n",
      "23/23 [==============================] - 8s 342ms/step - loss: 2.0397e-04 - val_loss: 0.0011\n",
      "Epoch 85/100\n",
      "23/23 [==============================] - 8s 344ms/step - loss: 1.6986e-04 - val_loss: 5.3147e-04\n",
      "Epoch 86/100\n",
      "23/23 [==============================] - 8s 343ms/step - loss: 1.6021e-04 - val_loss: 6.0052e-04\n",
      "Epoch 87/100\n",
      "23/23 [==============================] - 8s 342ms/step - loss: 1.4615e-04 - val_loss: 5.2534e-04\n",
      "Epoch 88/100\n",
      "23/23 [==============================] - 8s 342ms/step - loss: 1.7069e-04 - val_loss: 5.6163e-04\n",
      "Epoch 89/100\n",
      "23/23 [==============================] - 8s 348ms/step - loss: 1.8949e-04 - val_loss: 0.0010\n",
      "Epoch 90/100\n",
      "23/23 [==============================] - 8s 334ms/step - loss: 1.7436e-04 - val_loss: 8.9440e-04\n",
      "Epoch 91/100\n",
      "23/23 [==============================] - 8s 350ms/step - loss: 1.7432e-04 - val_loss: 5.1972e-04\n",
      "Epoch 92/100\n",
      "23/23 [==============================] - 8s 339ms/step - loss: 1.6948e-04 - val_loss: 5.3532e-04\n",
      "Epoch 93/100\n",
      "23/23 [==============================] - 8s 358ms/step - loss: 1.4329e-04 - val_loss: 6.6193e-04\n",
      "Epoch 94/100\n",
      "23/23 [==============================] - 8s 349ms/step - loss: 1.4497e-04 - val_loss: 5.4458e-04\n",
      "Epoch 95/100\n",
      "23/23 [==============================] - 8s 341ms/step - loss: 1.5967e-04 - val_loss: 5.3833e-04\n",
      "Epoch 96/100\n",
      "23/23 [==============================] - 8s 345ms/step - loss: 1.7904e-04 - val_loss: 7.7753e-04\n",
      "Epoch 97/100\n",
      "23/23 [==============================] - 8s 352ms/step - loss: 1.4115e-04 - val_loss: 5.3924e-04\n",
      "Epoch 98/100\n",
      "23/23 [==============================] - 8s 346ms/step - loss: 1.3869e-04 - val_loss: 5.3257e-04\n",
      "Epoch 99/100\n",
      "23/23 [==============================] - 8s 338ms/step - loss: 1.8367e-04 - val_loss: 5.1459e-04\n",
      "Epoch 100/100\n",
      "23/23 [==============================] - 8s 340ms/step - loss: 1.4121e-04 - val_loss: 5.4302e-04\n"
     ]
    },
    {
     "data": {
      "text/plain": [
       "<keras.callbacks.History at 0x2877fb7bad0>"
      ]
     },
     "execution_count": 29,
     "metadata": {},
     "output_type": "execute_result"
    }
   ],
   "source": [
    "model.fit(X_train,y_train,validation_data=(X_test,ytest),epochs=100,batch_size=64,verbose=1)"
   ]
  },
  {
   "cell_type": "code",
   "execution_count": 30,
   "metadata": {},
   "outputs": [],
   "source": [
    "import tensorflow as tf"
   ]
  },
  {
   "cell_type": "code",
   "execution_count": 31,
   "metadata": {},
   "outputs": [
    {
     "data": {
      "text/plain": [
       "'2.12.0'"
      ]
     },
     "execution_count": 31,
     "metadata": {},
     "output_type": "execute_result"
    }
   ],
   "source": [
    "tf.__version__"
   ]
  },
  {
   "cell_type": "code",
   "execution_count": 32,
   "metadata": {},
   "outputs": [
    {
     "name": "stdout",
     "output_type": "stream",
     "text": [
      "46/46 [==============================] - 6s 72ms/step\n",
      "24/24 [==============================] - 2s 77ms/step\n"
     ]
    }
   ],
   "source": [
    "### Lets Do the prediction and check performance metrics\n",
    "train_predict=model.predict(X_train)\n",
    "test_predict=model.predict(X_test)"
   ]
  },
  {
   "cell_type": "code",
   "execution_count": 33,
   "metadata": {},
   "outputs": [],
   "source": [
    "##Transformback to original form\n",
    "train_predict=scaler.inverse_transform(train_predict)\n",
    "test_predict=scaler.inverse_transform(test_predict)"
   ]
  },
  {
   "cell_type": "code",
   "execution_count": 34,
   "metadata": {},
   "outputs": [
    {
     "data": {
      "text/plain": [
       "164.33140890612228"
      ]
     },
     "execution_count": 34,
     "metadata": {},
     "output_type": "execute_result"
    }
   ],
   "source": [
    "### Calculate RMSE performance metrics\n",
    "import math\n",
    "from sklearn.metrics import mean_squared_error\n",
    "math.sqrt(mean_squared_error(y_train,train_predict))"
   ]
  },
  {
   "cell_type": "code",
   "execution_count": 35,
   "metadata": {},
   "outputs": [
    {
     "data": {
      "text/plain": [
       "307.90976266798157"
      ]
     },
     "execution_count": 35,
     "metadata": {},
     "output_type": "execute_result"
    }
   ],
   "source": [
    "### Test Data RMSE\n",
    "math.sqrt(mean_squared_error(ytest,test_predict))"
   ]
  },
  {
   "cell_type": "code",
   "execution_count": 36,
   "metadata": {},
   "outputs": [
    {
     "data": {
      "image/png": "[encoded data removed]",
      "text/plain": [
       "<Figure size 640x480 with 1 Axes>"
      ]
     },
     "metadata": {},
     "output_type": "display_data"
    }
   ],
   "source": [
    "### Plotting \n",
    "# shift train predictions for plotting\n",
    "look_back=100\n",
    "trainPredictPlot = numpy.empty_like(df1)\n",
    "trainPredictPlot[:, :] = np.nan\n",
    "trainPredictPlot[look_back:len(train_predict)+look_back, :] = train_predict\n",
    "# shift test predictions for plotting\n",
    "testPredictPlot = numpy.empty_like(df1)\n",
    "testPredictPlot[:, :] = numpy.nan\n",
    "testPredictPlot[len(train_predict)+(look_back*2)+1:len(df1)-1, :] = test_predict\n",
    "# plot baseline and predictions\n",
    "plt.plot(scaler.inverse_transform(df1))\n",
    "plt.plot(trainPredictPlot)\n",
    "plt.plot(testPredictPlot)\n",
    "plt.show()"
   ]
  },
  {
   "cell_type": "code",
   "execution_count": 37,
   "metadata": {},
   "outputs": [
    {
     "data": {
      "text/plain": [
       "838"
      ]
     },
     "execution_count": 37,
     "metadata": {},
     "output_type": "execute_result"
    }
   ],
   "source": [
    "len(test_data)"
   ]
  },
  {
   "cell_type": "code",
   "execution_count": 38,
   "metadata": {},
   "outputs": [
    {
     "data": {
      "text/plain": [
       "(1, 100)"
      ]
     },
     "execution_count": 38,
     "metadata": {},
     "output_type": "execute_result"
    }
   ],
   "source": [
    "x_input=test_data[(len(test_data)-100):].reshape(1,-1)\n",
    "x_input.shape\n"
   ]
  },
  {
   "cell_type": "code",
   "execution_count": null,
   "metadata": {},
   "outputs": [],
   "source": []
  },
  {
   "cell_type": "code",
   "execution_count": null,
   "metadata": {},
   "outputs": [],
   "source": []
  },
  {
   "cell_type": "code",
   "execution_count": 39,
   "metadata": {},
   "outputs": [],
   "source": [
    "temp_input=list(x_input)\n",
    "temp_input=temp_input[0].tolist()"
   ]
  },
  {
   "cell_type": "code",
   "execution_count": 40,
   "metadata": {},
   "outputs": [
    {
     "data": {
      "text/plain": [
       "[0.5280387193330505,\n",
       " 0.5135857637732536,\n",
       " 0.5280146431179138,\n",
       " 0.4909668883221714,\n",
       " 0.48137977076947647,\n",
       " 0.49173772948047534,\n",
       " 0.5083345401149756,\n",
       " 0.5059979765573158,\n",
       " 0.4938815845551786,\n",
       " 0.49706121550772653,\n",
       " 0.4711663367964237,\n",
       " 0.47983812458525743,\n",
       " 0.4776220095504071,\n",
       " 0.4812593222466671,\n",
       " 0.4960013634147451,\n",
       " 0.5053957700756576,\n",
       " 0.5039504600667223,\n",
       " 0.49352023898675035,\n",
       " 0.5149588114132158,\n",
       " 0.5098280001453582,\n",
       " 0.520282295031641,\n",
       " 0.529315392256514,\n",
       " 0.5571614512831264,\n",
       " 0.5541985688962828,\n",
       " 0.5525846603430907,\n",
       " 0.5468275687872642,\n",
       " 0.5515970320778676,\n",
       " 0.5484655872791561,\n",
       " 0.55595703831981,\n",
       " 0.5415522327814606,\n",
       " 0.5430216190055326,\n",
       " 0.49961460230469434,\n",
       " 0.5128390325536493,\n",
       " 0.546225362305606,\n",
       " 0.5451895840189355,\n",
       " 0.5421544392631188,\n",
       " 0.5513561711646376,\n",
       " 0.5475984099455683,\n",
       " 0.5232692536336212,\n",
       " 0.5194151176980532,\n",
       " 0.534566652047181,\n",
       " 0.5401792212738873,\n",
       " 0.5509707517898986,\n",
       " 0.5514766196874471,\n",
       " 0.5590644069033849,\n",
       " 0.5809124387873371,\n",
       " 0.583152704710928,\n",
       " 0.5876330848020761,\n",
       " 0.5929806807680269,\n",
       " 0.5808884011134153,\n",
       " 0.5725779227606209,\n",
       " 0.5775882855056691,\n",
       " 0.5754203204922662,\n",
       " 0.6838174871907431,\n",
       " 0.7523486137093578,\n",
       " 0.7513368730966091,\n",
       " 0.7236594872878573,\n",
       " 0.7207448295960649,\n",
       " 0.7205280424891457,\n",
       " 0.7166497966148779,\n",
       " 0.7266705196961484,\n",
       " 0.7260683132144902,\n",
       " 0.7486148901642103,\n",
       " 0.7701980234610107,\n",
       " 0.7740521593965788,\n",
       " 0.7932022797456171,\n",
       " 0.8048609900040422,\n",
       " 0.7956592556936973,\n",
       " 0.8034639022813321,\n",
       " 0.8102568082562182,\n",
       " 0.8050055123331623,\n",
       " 0.8279616210051471,\n",
       " 0.8103772206466388,\n",
       " 0.8166642225915874,\n",
       " 0.7641759586444287,\n",
       " 0.7721250528875799,\n",
       " 0.7542516054620051,\n",
       " 0.7599605132728212,\n",
       " 0.7567085814100855,\n",
       " 0.7685840763666038,\n",
       " 0.7717878557990662,\n",
       " 0.764151846296903,\n",
       " 0.7577443596967561,\n",
       " 0.7710411269882878,\n",
       " 0.7798092148200163,\n",
       " 0.8022353769704901,\n",
       " 0.8115334835885077,\n",
       " 0.8283470427887122,\n",
       " 0.8252397103375262,\n",
       " 0.8809076413696217,\n",
       " 0.874861464205514,\n",
       " 0.9089704489619385,\n",
       " 0.9352025994353588,\n",
       " 0.9389362483069026,\n",
       " 0.9717685577310377,\n",
       " 0.9862937756598075,\n",
       " 1.0000000000000002,\n",
       " 0.9986510647075634,\n",
       " 0.9608806910397425,\n",
       " 0.9696246689327713]"
      ]
     },
     "execution_count": 40,
     "metadata": {},
     "output_type": "execute_result"
    }
   ],
   "source": [
    "temp_input"
   ]
  },
  {
   "cell_type": "code",
   "execution_count": 41,
   "metadata": {},
   "outputs": [
    {
     "name": "stdout",
     "output_type": "stream",
     "text": [
      "[0.9645118]\n",
      "101\n",
      "1 day input [0.51358576 0.52801464 0.49096689 0.48137977 0.49173773 0.50833454\n",
      " 0.50599798 0.49388158 0.49706122 0.47116634 0.47983812 0.47762201\n",
      " 0.48125932 0.49600136 0.50539577 0.50395046 0.49352024 0.51495881\n",
      " 0.509828   0.5202823  0.52931539 0.55716145 0.55419857 0.55258466\n",
      " 0.54682757 0.55159703 0.54846559 0.55595704 0.54155223 0.54302162\n",
      " 0.4996146  0.51283903 0.54622536 0.54518958 0.54215444 0.55135617\n",
      " 0.54759841 0.52326925 0.51941512 0.53456665 0.54017922 0.55097075\n",
      " 0.55147662 0.55906441 0.58091244 0.5831527  0.58763308 0.59298068\n",
      " 0.5808884  0.57257792 0.57758829 0.57542032 0.68381749 0.75234861\n",
      " 0.75133687 0.72365949 0.72074483 0.72052804 0.7166498  0.72667052\n",
      " 0.72606831 0.74861489 0.77019802 0.77405216 0.79320228 0.80486099\n",
      " 0.79565926 0.8034639  0.81025681 0.80500551 0.82796162 0.81037722\n",
      " 0.81666422 0.76417596 0.77212505 0.75425161 0.75996051 0.75670858\n",
      " 0.76858408 0.77178786 0.76415185 0.75774436 0.77104113 0.77980921\n",
      " 0.80223538 0.81153348 0.82834704 0.82523971 0.88090764 0.87486146\n",
      " 0.90897045 0.9352026  0.93893625 0.97176856 0.98629378 1.\n",
      " 0.99865106 0.96088069 0.96962467 0.96451181]\n",
      "1 day output [[0.96941596]]\n",
      "2 day input [0.52801464 0.49096689 0.48137977 0.49173773 0.50833454 0.50599798\n",
      " 0.49388158 0.49706122 0.47116634 0.47983812 0.47762201 0.48125932\n",
      " 0.49600136 0.50539577 0.50395046 0.49352024 0.51495881 0.509828\n",
      " 0.5202823  0.52931539 0.55716145 0.55419857 0.55258466 0.54682757\n",
      " 0.55159703 0.54846559 0.55595704 0.54155223 0.54302162 0.4996146\n",
      " 0.51283903 0.54622536 0.54518958 0.54215444 0.55135617 0.54759841\n",
      " 0.52326925 0.51941512 0.53456665 0.54017922 0.55097075 0.55147662\n",
      " 0.55906441 0.58091244 0.5831527  0.58763308 0.59298068 0.5808884\n",
      " 0.57257792 0.57758829 0.57542032 0.68381749 0.75234861 0.75133687\n",
      " 0.72365949 0.72074483 0.72052804 0.7166498  0.72667052 0.72606831\n",
      " 0.74861489 0.77019802 0.77405216 0.79320228 0.80486099 0.79565926\n",
      " 0.8034639  0.81025681 0.80500551 0.82796162 0.81037722 0.81666422\n",
      " 0.76417596 0.77212505 0.75425161 0.75996051 0.75670858 0.76858408\n",
      " 0.77178786 0.76415185 0.75774436 0.77104113 0.77980921 0.80223538\n",
      " 0.81153348 0.82834704 0.82523971 0.88090764 0.87486146 0.90897045\n",
      " 0.9352026  0.93893625 0.97176856 0.98629378 1.         0.99865106\n",
      " 0.96088069 0.96962467 0.96451181 0.96941596]\n",
      "2 day output [[0.9679676]]\n",
      "3 day input [0.49096689 0.48137977 0.49173773 0.50833454 0.50599798 0.49388158\n",
      " 0.49706122 0.47116634 0.47983812 0.47762201 0.48125932 0.49600136\n",
      " 0.50539577 0.50395046 0.49352024 0.51495881 0.509828   0.5202823\n",
      " 0.52931539 0.55716145 0.55419857 0.55258466 0.54682757 0.55159703\n",
      " 0.54846559 0.55595704 0.54155223 0.54302162 0.4996146  0.51283903\n",
      " 0.54622536 0.54518958 0.54215444 0.55135617 0.54759841 0.52326925\n",
      " 0.51941512 0.53456665 0.54017922 0.55097075 0.55147662 0.55906441\n",
      " 0.58091244 0.5831527  0.58763308 0.59298068 0.5808884  0.57257792\n",
      " 0.57758829 0.57542032 0.68381749 0.75234861 0.75133687 0.72365949\n",
      " 0.72074483 0.72052804 0.7166498  0.72667052 0.72606831 0.74861489\n",
      " 0.77019802 0.77405216 0.79320228 0.80486099 0.79565926 0.8034639\n",
      " 0.81025681 0.80500551 0.82796162 0.81037722 0.81666422 0.76417596\n",
      " 0.77212505 0.75425161 0.75996051 0.75670858 0.76858408 0.77178786\n",
      " 0.76415185 0.75774436 0.77104113 0.77980921 0.80223538 0.81153348\n",
      " 0.82834704 0.82523971 0.88090764 0.87486146 0.90897045 0.9352026\n",
      " 0.93893625 0.97176856 0.98629378 1.         0.99865106 0.96088069\n",
      " 0.96962467 0.96451181 0.96941596 0.96796763]\n",
      "3 day output [[0.96673536]]\n",
      "4 day input [0.48137977 0.49173773 0.50833454 0.50599798 0.49388158 0.49706122\n",
      " 0.47116634 0.47983812 0.47762201 0.48125932 0.49600136 0.50539577\n",
      " 0.50395046 0.49352024 0.51495881 0.509828   0.5202823  0.52931539\n",
      " 0.55716145 0.55419857 0.55258466 0.54682757 0.55159703 0.54846559\n",
      " 0.55595704 0.54155223 0.54302162 0.4996146  0.51283903 0.54622536\n",
      " 0.54518958 0.54215444 0.55135617 0.54759841 0.52326925 0.51941512\n",
      " 0.53456665 0.54017922 0.55097075 0.55147662 0.55906441 0.58091244\n",
      " 0.5831527  0.58763308 0.59298068 0.5808884  0.57257792 0.57758829\n",
      " 0.57542032 0.68381749 0.75234861 0.75133687 0.72365949 0.72074483\n",
      " 0.72052804 0.7166498  0.72667052 0.72606831 0.74861489 0.77019802\n",
      " 0.77405216 0.79320228 0.80486099 0.79565926 0.8034639  0.81025681\n",
      " 0.80500551 0.82796162 0.81037722 0.81666422 0.76417596 0.77212505\n",
      " 0.75425161 0.75996051 0.75670858 0.76858408 0.77178786 0.76415185\n",
      " 0.75774436 0.77104113 0.77980921 0.80223538 0.81153348 0.82834704\n",
      " 0.82523971 0.88090764 0.87486146 0.90897045 0.9352026  0.93893625\n",
      " 0.97176856 0.98629378 1.         0.99865106 0.96088069 0.96962467\n",
      " 0.96451181 0.96941596 0.96796763 0.96673536]\n",
      "4 day output [[0.96586436]]\n",
      "5 day input [0.49173773 0.50833454 0.50599798 0.49388158 0.49706122 0.47116634\n",
      " 0.47983812 0.47762201 0.48125932 0.49600136 0.50539577 0.50395046\n",
      " 0.49352024 0.51495881 0.509828   0.5202823  0.52931539 0.55716145\n",
      " 0.55419857 0.55258466 0.54682757 0.55159703 0.54846559 0.55595704\n",
      " 0.54155223 0.54302162 0.4996146  0.51283903 0.54622536 0.54518958\n",
      " 0.54215444 0.55135617 0.54759841 0.52326925 0.51941512 0.53456665\n",
      " 0.54017922 0.55097075 0.55147662 0.55906441 0.58091244 0.5831527\n",
      " 0.58763308 0.59298068 0.5808884  0.57257792 0.57758829 0.57542032\n",
      " 0.68381749 0.75234861 0.75133687 0.72365949 0.72074483 0.72052804\n",
      " 0.7166498  0.72667052 0.72606831 0.74861489 0.77019802 0.77405216\n",
      " 0.79320228 0.80486099 0.79565926 0.8034639  0.81025681 0.80500551\n",
      " 0.82796162 0.81037722 0.81666422 0.76417596 0.77212505 0.75425161\n",
      " 0.75996051 0.75670858 0.76858408 0.77178786 0.76415185 0.75774436\n",
      " 0.77104113 0.77980921 0.80223538 0.81153348 0.82834704 0.82523971\n",
      " 0.88090764 0.87486146 0.90897045 0.9352026  0.93893625 0.97176856\n",
      " 0.98629378 1.         0.99865106 0.96088069 0.96962467 0.96451181\n",
      " 0.96941596 0.96796763 0.96673536 0.96586436]\n",
      "5 day output [[0.9646941]]\n",
      "6 day input [0.50833454 0.50599798 0.49388158 0.49706122 0.47116634 0.47983812\n",
      " 0.47762201 0.48125932 0.49600136 0.50539577 0.50395046 0.49352024\n",
      " 0.51495881 0.509828   0.5202823  0.52931539 0.55716145 0.55419857\n",
      " 0.55258466 0.54682757 0.55159703 0.54846559 0.55595704 0.54155223\n",
      " 0.54302162 0.4996146  0.51283903 0.54622536 0.54518958 0.54215444\n",
      " 0.55135617 0.54759841 0.52326925 0.51941512 0.53456665 0.54017922\n",
      " 0.55097075 0.55147662 0.55906441 0.58091244 0.5831527  0.58763308\n",
      " 0.59298068 0.5808884  0.57257792 0.57758829 0.57542032 0.68381749\n",
      " 0.75234861 0.75133687 0.72365949 0.72074483 0.72052804 0.7166498\n",
      " 0.72667052 0.72606831 0.74861489 0.77019802 0.77405216 0.79320228\n",
      " 0.80486099 0.79565926 0.8034639  0.81025681 0.80500551 0.82796162\n",
      " 0.81037722 0.81666422 0.76417596 0.77212505 0.75425161 0.75996051\n",
      " 0.75670858 0.76858408 0.77178786 0.76415185 0.75774436 0.77104113\n",
      " 0.77980921 0.80223538 0.81153348 0.82834704 0.82523971 0.88090764\n",
      " 0.87486146 0.90897045 0.9352026  0.93893625 0.97176856 0.98629378\n",
      " 1.         0.99865106 0.96088069 0.96962467 0.96451181 0.96941596\n",
      " 0.96796763 0.96673536 0.96586436 0.96469408]\n",
      "6 day output [[0.9630386]]\n",
      "7 day input [0.50599798 0.49388158 0.49706122 0.47116634 0.47983812 0.47762201\n",
      " 0.48125932 0.49600136 0.50539577 0.50395046 0.49352024 0.51495881\n",
      " 0.509828   0.5202823  0.52931539 0.55716145 0.55419857 0.55258466\n",
      " 0.54682757 0.55159703 0.54846559 0.55595704 0.54155223 0.54302162\n",
      " 0.4996146  0.51283903 0.54622536 0.54518958 0.54215444 0.55135617\n",
      " 0.54759841 0.52326925 0.51941512 0.53456665 0.54017922 0.55097075\n",
      " 0.55147662 0.55906441 0.58091244 0.5831527  0.58763308 0.59298068\n",
      " 0.5808884  0.57257792 0.57758829 0.57542032 0.68381749 0.75234861\n",
      " 0.75133687 0.72365949 0.72074483 0.72052804 0.7166498  0.72667052\n",
      " 0.72606831 0.74861489 0.77019802 0.77405216 0.79320228 0.80486099\n",
      " 0.79565926 0.8034639  0.81025681 0.80500551 0.82796162 0.81037722\n",
      " 0.81666422 0.76417596 0.77212505 0.75425161 0.75996051 0.75670858\n",
      " 0.76858408 0.77178786 0.76415185 0.75774436 0.77104113 0.77980921\n",
      " 0.80223538 0.81153348 0.82834704 0.82523971 0.88090764 0.87486146\n",
      " 0.90897045 0.9352026  0.93893625 0.97176856 0.98629378 1.\n",
      " 0.99865106 0.96088069 0.96962467 0.96451181 0.96941596 0.96796763\n",
      " 0.96673536 0.96586436 0.96469408 0.96303862]\n",
      "7 day output [[0.96091616]]\n",
      "8 day input [0.49388158 0.49706122 0.47116634 0.47983812 0.47762201 0.48125932\n",
      " 0.49600136 0.50539577 0.50395046 0.49352024 0.51495881 0.509828\n",
      " 0.5202823  0.52931539 0.55716145 0.55419857 0.55258466 0.54682757\n",
      " 0.55159703 0.54846559 0.55595704 0.54155223 0.54302162 0.4996146\n",
      " 0.51283903 0.54622536 0.54518958 0.54215444 0.55135617 0.54759841\n",
      " 0.52326925 0.51941512 0.53456665 0.54017922 0.55097075 0.55147662\n",
      " 0.55906441 0.58091244 0.5831527  0.58763308 0.59298068 0.5808884\n",
      " 0.57257792 0.57758829 0.57542032 0.68381749 0.75234861 0.75133687\n",
      " 0.72365949 0.72074483 0.72052804 0.7166498  0.72667052 0.72606831\n",
      " 0.74861489 0.77019802 0.77405216 0.79320228 0.80486099 0.79565926\n",
      " 0.8034639  0.81025681 0.80500551 0.82796162 0.81037722 0.81666422\n",
      " 0.76417596 0.77212505 0.75425161 0.75996051 0.75670858 0.76858408\n",
      " 0.77178786 0.76415185 0.75774436 0.77104113 0.77980921 0.80223538\n",
      " 0.81153348 0.82834704 0.82523971 0.88090764 0.87486146 0.90897045\n",
      " 0.9352026  0.93893625 0.97176856 0.98629378 1.         0.99865106\n",
      " 0.96088069 0.96962467 0.96451181 0.96941596 0.96796763 0.96673536\n",
      " 0.96586436 0.96469408 0.96303862 0.96091616]\n",
      "8 day output [[0.9583944]]\n",
      "9 day input [0.49706122 0.47116634 0.47983812 0.47762201 0.48125932 0.49600136\n",
      " 0.50539577 0.50395046 0.49352024 0.51495881 0.509828   0.5202823\n",
      " 0.52931539 0.55716145 0.55419857 0.55258466 0.54682757 0.55159703\n",
      " 0.54846559 0.55595704 0.54155223 0.54302162 0.4996146  0.51283903\n",
      " 0.54622536 0.54518958 0.54215444 0.55135617 0.54759841 0.52326925\n",
      " 0.51941512 0.53456665 0.54017922 0.55097075 0.55147662 0.55906441\n",
      " 0.58091244 0.5831527  0.58763308 0.59298068 0.5808884  0.57257792\n",
      " 0.57758829 0.57542032 0.68381749 0.75234861 0.75133687 0.72365949\n",
      " 0.72074483 0.72052804 0.7166498  0.72667052 0.72606831 0.74861489\n",
      " 0.77019802 0.77405216 0.79320228 0.80486099 0.79565926 0.8034639\n",
      " 0.81025681 0.80500551 0.82796162 0.81037722 0.81666422 0.76417596\n",
      " 0.77212505 0.75425161 0.75996051 0.75670858 0.76858408 0.77178786\n",
      " 0.76415185 0.75774436 0.77104113 0.77980921 0.80223538 0.81153348\n",
      " 0.82834704 0.82523971 0.88090764 0.87486146 0.90897045 0.9352026\n",
      " 0.93893625 0.97176856 0.98629378 1.         0.99865106 0.96088069\n",
      " 0.96962467 0.96451181 0.96941596 0.96796763 0.96673536 0.96586436\n",
      " 0.96469408 0.96303862 0.96091616 0.95839441]\n",
      "9 day output [[0.9555644]]\n",
      "10 day input [0.47116634 0.47983812 0.47762201 0.48125932 0.49600136 0.50539577\n",
      " 0.50395046 0.49352024 0.51495881 0.509828   0.5202823  0.52931539\n",
      " 0.55716145 0.55419857 0.55258466 0.54682757 0.55159703 0.54846559\n",
      " 0.55595704 0.54155223 0.54302162 0.4996146  0.51283903 0.54622536\n",
      " 0.54518958 0.54215444 0.55135617 0.54759841 0.52326925 0.51941512\n",
      " 0.53456665 0.54017922 0.55097075 0.55147662 0.55906441 0.58091244\n",
      " 0.5831527  0.58763308 0.59298068 0.5808884  0.57257792 0.57758829\n",
      " 0.57542032 0.68381749 0.75234861 0.75133687 0.72365949 0.72074483\n",
      " 0.72052804 0.7166498  0.72667052 0.72606831 0.74861489 0.77019802\n",
      " 0.77405216 0.79320228 0.80486099 0.79565926 0.8034639  0.81025681\n",
      " 0.80500551 0.82796162 0.81037722 0.81666422 0.76417596 0.77212505\n",
      " 0.75425161 0.75996051 0.75670858 0.76858408 0.77178786 0.76415185\n",
      " 0.75774436 0.77104113 0.77980921 0.80223538 0.81153348 0.82834704\n",
      " 0.82523971 0.88090764 0.87486146 0.90897045 0.9352026  0.93893625\n",
      " 0.97176856 0.98629378 1.         0.99865106 0.96088069 0.96962467\n",
      " 0.96451181 0.96941596 0.96796763 0.96673536 0.96586436 0.96469408\n",
      " 0.96303862 0.96091616 0.95839441 0.95556438]\n",
      "10 day output [[0.9525214]]\n",
      "11 day input [0.47983812 0.47762201 0.48125932 0.49600136 0.50539577 0.50395046\n",
      " 0.49352024 0.51495881 0.509828   0.5202823  0.52931539 0.55716145\n",
      " 0.55419857 0.55258466 0.54682757 0.55159703 0.54846559 0.55595704\n",
      " 0.54155223 0.54302162 0.4996146  0.51283903 0.54622536 0.54518958\n",
      " 0.54215444 0.55135617 0.54759841 0.52326925 0.51941512 0.53456665\n",
      " 0.54017922 0.55097075 0.55147662 0.55906441 0.58091244 0.5831527\n",
      " 0.58763308 0.59298068 0.5808884  0.57257792 0.57758829 0.57542032\n",
      " 0.68381749 0.75234861 0.75133687 0.72365949 0.72074483 0.72052804\n",
      " 0.7166498  0.72667052 0.72606831 0.74861489 0.77019802 0.77405216\n",
      " 0.79320228 0.80486099 0.79565926 0.8034639  0.81025681 0.80500551\n",
      " 0.82796162 0.81037722 0.81666422 0.76417596 0.77212505 0.75425161\n",
      " 0.75996051 0.75670858 0.76858408 0.77178786 0.76415185 0.75774436\n",
      " 0.77104113 0.77980921 0.80223538 0.81153348 0.82834704 0.82523971\n",
      " 0.88090764 0.87486146 0.90897045 0.9352026  0.93893625 0.97176856\n",
      " 0.98629378 1.         0.99865106 0.96088069 0.96962467 0.96451181\n",
      " 0.96941596 0.96796763 0.96673536 0.96586436 0.96469408 0.96303862\n",
      " 0.96091616 0.95839441 0.95556438 0.95252138]\n",
      "11 day output [[0.9493536]]\n",
      "12 day input [0.47762201 0.48125932 0.49600136 0.50539577 0.50395046 0.49352024\n",
      " 0.51495881 0.509828   0.5202823  0.52931539 0.55716145 0.55419857\n",
      " 0.55258466 0.54682757 0.55159703 0.54846559 0.55595704 0.54155223\n",
      " 0.54302162 0.4996146  0.51283903 0.54622536 0.54518958 0.54215444\n",
      " 0.55135617 0.54759841 0.52326925 0.51941512 0.53456665 0.54017922\n",
      " 0.55097075 0.55147662 0.55906441 0.58091244 0.5831527  0.58763308\n",
      " 0.59298068 0.5808884  0.57257792 0.57758829 0.57542032 0.68381749\n",
      " 0.75234861 0.75133687 0.72365949 0.72074483 0.72052804 0.7166498\n",
      " 0.72667052 0.72606831 0.74861489 0.77019802 0.77405216 0.79320228\n",
      " 0.80486099 0.79565926 0.8034639  0.81025681 0.80500551 0.82796162\n",
      " 0.81037722 0.81666422 0.76417596 0.77212505 0.75425161 0.75996051\n",
      " 0.75670858 0.76858408 0.77178786 0.76415185 0.75774436 0.77104113\n",
      " 0.77980921 0.80223538 0.81153348 0.82834704 0.82523971 0.88090764\n",
      " 0.87486146 0.90897045 0.9352026  0.93893625 0.97176856 0.98629378\n",
      " 1.         0.99865106 0.96088069 0.96962467 0.96451181 0.96941596\n",
      " 0.96796763 0.96673536 0.96586436 0.96469408 0.96303862 0.96091616\n",
      " 0.95839441 0.95556438 0.95252138 0.94935358]\n",
      "12 day output [[0.9461354]]\n",
      "13 day input [0.48125932 0.49600136 0.50539577 0.50395046 0.49352024 0.51495881\n",
      " 0.509828   0.5202823  0.52931539 0.55716145 0.55419857 0.55258466\n",
      " 0.54682757 0.55159703 0.54846559 0.55595704 0.54155223 0.54302162\n",
      " 0.4996146  0.51283903 0.54622536 0.54518958 0.54215444 0.55135617\n",
      " 0.54759841 0.52326925 0.51941512 0.53456665 0.54017922 0.55097075\n",
      " 0.55147662 0.55906441 0.58091244 0.5831527  0.58763308 0.59298068\n",
      " 0.5808884  0.57257792 0.57758829 0.57542032 0.68381749 0.75234861\n",
      " 0.75133687 0.72365949 0.72074483 0.72052804 0.7166498  0.72667052\n",
      " 0.72606831 0.74861489 0.77019802 0.77405216 0.79320228 0.80486099\n",
      " 0.79565926 0.8034639  0.81025681 0.80500551 0.82796162 0.81037722\n",
      " 0.81666422 0.76417596 0.77212505 0.75425161 0.75996051 0.75670858\n",
      " 0.76858408 0.77178786 0.76415185 0.75774436 0.77104113 0.77980921\n",
      " 0.80223538 0.81153348 0.82834704 0.82523971 0.88090764 0.87486146\n",
      " 0.90897045 0.9352026  0.93893625 0.97176856 0.98629378 1.\n",
      " 0.99865106 0.96088069 0.96962467 0.96451181 0.96941596 0.96796763\n",
      " 0.96673536 0.96586436 0.96469408 0.96303862 0.96091616 0.95839441\n",
      " 0.95556438 0.95252138 0.94935358 0.9461354 ]\n",
      "13 day output [[0.94292474]]\n",
      "14 day input [0.49600136 0.50539577 0.50395046 0.49352024 0.51495881 0.509828\n",
      " 0.5202823  0.52931539 0.55716145 0.55419857 0.55258466 0.54682757\n",
      " 0.55159703 0.54846559 0.55595704 0.54155223 0.54302162 0.4996146\n",
      " 0.51283903 0.54622536 0.54518958 0.54215444 0.55135617 0.54759841\n",
      " 0.52326925 0.51941512 0.53456665 0.54017922 0.55097075 0.55147662\n",
      " 0.55906441 0.58091244 0.5831527  0.58763308 0.59298068 0.5808884\n",
      " 0.57257792 0.57758829 0.57542032 0.68381749 0.75234861 0.75133687\n",
      " 0.72365949 0.72074483 0.72052804 0.7166498  0.72667052 0.72606831\n",
      " 0.74861489 0.77019802 0.77405216 0.79320228 0.80486099 0.79565926\n",
      " 0.8034639  0.81025681 0.80500551 0.82796162 0.81037722 0.81666422\n",
      " 0.76417596 0.77212505 0.75425161 0.75996051 0.75670858 0.76858408\n",
      " 0.77178786 0.76415185 0.75774436 0.77104113 0.77980921 0.80223538\n",
      " 0.81153348 0.82834704 0.82523971 0.88090764 0.87486146 0.90897045\n",
      " 0.9352026  0.93893625 0.97176856 0.98629378 1.         0.99865106\n",
      " 0.96088069 0.96962467 0.96451181 0.96941596 0.96796763 0.96673536\n",
      " 0.96586436 0.96469408 0.96303862 0.96091616 0.95839441 0.95556438\n",
      " 0.95252138 0.94935358 0.9461354  0.94292474]\n",
      "14 day output [[0.93976444]]\n",
      "15 day input [0.50539577 0.50395046 0.49352024 0.51495881 0.509828   0.5202823\n",
      " 0.52931539 0.55716145 0.55419857 0.55258466 0.54682757 0.55159703\n",
      " 0.54846559 0.55595704 0.54155223 0.54302162 0.4996146  0.51283903\n",
      " 0.54622536 0.54518958 0.54215444 0.55135617 0.54759841 0.52326925\n",
      " 0.51941512 0.53456665 0.54017922 0.55097075 0.55147662 0.55906441\n",
      " 0.58091244 0.5831527  0.58763308 0.59298068 0.5808884  0.57257792\n",
      " 0.57758829 0.57542032 0.68381749 0.75234861 0.75133687 0.72365949\n",
      " 0.72074483 0.72052804 0.7166498  0.72667052 0.72606831 0.74861489\n",
      " 0.77019802 0.77405216 0.79320228 0.80486099 0.79565926 0.8034639\n",
      " 0.81025681 0.80500551 0.82796162 0.81037722 0.81666422 0.76417596\n",
      " 0.77212505 0.75425161 0.75996051 0.75670858 0.76858408 0.77178786\n",
      " 0.76415185 0.75774436 0.77104113 0.77980921 0.80223538 0.81153348\n",
      " 0.82834704 0.82523971 0.88090764 0.87486146 0.90897045 0.9352026\n",
      " 0.93893625 0.97176856 0.98629378 1.         0.99865106 0.96088069\n",
      " 0.96962467 0.96451181 0.96941596 0.96796763 0.96673536 0.96586436\n",
      " 0.96469408 0.96303862 0.96091616 0.95839441 0.95556438 0.95252138\n",
      " 0.94935358 0.9461354  0.94292474 0.93976444]\n",
      "15 day output [[0.93668574]]\n",
      "16 day input [0.50395046 0.49352024 0.51495881 0.509828   0.5202823  0.52931539\n",
      " 0.55716145 0.55419857 0.55258466 0.54682757 0.55159703 0.54846559\n",
      " 0.55595704 0.54155223 0.54302162 0.4996146  0.51283903 0.54622536\n",
      " 0.54518958 0.54215444 0.55135617 0.54759841 0.52326925 0.51941512\n",
      " 0.53456665 0.54017922 0.55097075 0.55147662 0.55906441 0.58091244\n",
      " 0.5831527  0.58763308 0.59298068 0.5808884  0.57257792 0.57758829\n",
      " 0.57542032 0.68381749 0.75234861 0.75133687 0.72365949 0.72074483\n",
      " 0.72052804 0.7166498  0.72667052 0.72606831 0.74861489 0.77019802\n",
      " 0.77405216 0.79320228 0.80486099 0.79565926 0.8034639  0.81025681\n",
      " 0.80500551 0.82796162 0.81037722 0.81666422 0.76417596 0.77212505\n",
      " 0.75425161 0.75996051 0.75670858 0.76858408 0.77178786 0.76415185\n",
      " 0.75774436 0.77104113 0.77980921 0.80223538 0.81153348 0.82834704\n",
      " 0.82523971 0.88090764 0.87486146 0.90897045 0.9352026  0.93893625\n",
      " 0.97176856 0.98629378 1.         0.99865106 0.96088069 0.96962467\n",
      " 0.96451181 0.96941596 0.96796763 0.96673536 0.96586436 0.96469408\n",
      " 0.96303862 0.96091616 0.95839441 0.95556438 0.95252138 0.94935358\n",
      " 0.9461354  0.94292474 0.93976444 0.93668574]\n",
      "16 day output [[0.9337102]]\n",
      "17 day input [0.49352024 0.51495881 0.509828   0.5202823  0.52931539 0.55716145\n",
      " 0.55419857 0.55258466 0.54682757 0.55159703 0.54846559 0.55595704\n",
      " 0.54155223 0.54302162 0.4996146  0.51283903 0.54622536 0.54518958\n",
      " 0.54215444 0.55135617 0.54759841 0.52326925 0.51941512 0.53456665\n",
      " 0.54017922 0.55097075 0.55147662 0.55906441 0.58091244 0.5831527\n",
      " 0.58763308 0.59298068 0.5808884  0.57257792 0.57758829 0.57542032\n",
      " 0.68381749 0.75234861 0.75133687 0.72365949 0.72074483 0.72052804\n",
      " 0.7166498  0.72667052 0.72606831 0.74861489 0.77019802 0.77405216\n",
      " 0.79320228 0.80486099 0.79565926 0.8034639  0.81025681 0.80500551\n",
      " 0.82796162 0.81037722 0.81666422 0.76417596 0.77212505 0.75425161\n",
      " 0.75996051 0.75670858 0.76858408 0.77178786 0.76415185 0.75774436\n",
      " 0.77104113 0.77980921 0.80223538 0.81153348 0.82834704 0.82523971\n",
      " 0.88090764 0.87486146 0.90897045 0.9352026  0.93893625 0.97176856\n",
      " 0.98629378 1.         0.99865106 0.96088069 0.96962467 0.96451181\n",
      " 0.96941596 0.96796763 0.96673536 0.96586436 0.96469408 0.96303862\n",
      " 0.96091616 0.95839441 0.95556438 0.95252138 0.94935358 0.9461354\n",
      " 0.94292474 0.93976444 0.93668574 0.93371022]\n",
      "17 day output [[0.9308529]]\n",
      "18 day input [0.51495881 0.509828   0.5202823  0.52931539 0.55716145 0.55419857\n",
      " 0.55258466 0.54682757 0.55159703 0.54846559 0.55595704 0.54155223\n",
      " 0.54302162 0.4996146  0.51283903 0.54622536 0.54518958 0.54215444\n",
      " 0.55135617 0.54759841 0.52326925 0.51941512 0.53456665 0.54017922\n",
      " 0.55097075 0.55147662 0.55906441 0.58091244 0.5831527  0.58763308\n",
      " 0.59298068 0.5808884  0.57257792 0.57758829 0.57542032 0.68381749\n",
      " 0.75234861 0.75133687 0.72365949 0.72074483 0.72052804 0.7166498\n",
      " 0.72667052 0.72606831 0.74861489 0.77019802 0.77405216 0.79320228\n",
      " 0.80486099 0.79565926 0.8034639  0.81025681 0.80500551 0.82796162\n",
      " 0.81037722 0.81666422 0.76417596 0.77212505 0.75425161 0.75996051\n",
      " 0.75670858 0.76858408 0.77178786 0.76415185 0.75774436 0.77104113\n",
      " 0.77980921 0.80223538 0.81153348 0.82834704 0.82523971 0.88090764\n",
      " 0.87486146 0.90897045 0.9352026  0.93893625 0.97176856 0.98629378\n",
      " 1.         0.99865106 0.96088069 0.96962467 0.96451181 0.96941596\n",
      " 0.96796763 0.96673536 0.96586436 0.96469408 0.96303862 0.96091616\n",
      " 0.95839441 0.95556438 0.95252138 0.94935358 0.9461354  0.94292474\n",
      " 0.93976444 0.93668574 0.93371022 0.93085289]\n",
      "18 day output [[0.9281242]]\n",
      "19 day input [0.509828   0.5202823  0.52931539 0.55716145 0.55419857 0.55258466\n",
      " 0.54682757 0.55159703 0.54846559 0.55595704 0.54155223 0.54302162\n",
      " 0.4996146  0.51283903 0.54622536 0.54518958 0.54215444 0.55135617\n",
      " 0.54759841 0.52326925 0.51941512 0.53456665 0.54017922 0.55097075\n",
      " 0.55147662 0.55906441 0.58091244 0.5831527  0.58763308 0.59298068\n",
      " 0.5808884  0.57257792 0.57758829 0.57542032 0.68381749 0.75234861\n",
      " 0.75133687 0.72365949 0.72074483 0.72052804 0.7166498  0.72667052\n",
      " 0.72606831 0.74861489 0.77019802 0.77405216 0.79320228 0.80486099\n",
      " 0.79565926 0.8034639  0.81025681 0.80500551 0.82796162 0.81037722\n",
      " 0.81666422 0.76417596 0.77212505 0.75425161 0.75996051 0.75670858\n",
      " 0.76858408 0.77178786 0.76415185 0.75774436 0.77104113 0.77980921\n",
      " 0.80223538 0.81153348 0.82834704 0.82523971 0.88090764 0.87486146\n",
      " 0.90897045 0.9352026  0.93893625 0.97176856 0.98629378 1.\n",
      " 0.99865106 0.96088069 0.96962467 0.96451181 0.96941596 0.96796763\n",
      " 0.96673536 0.96586436 0.96469408 0.96303862 0.96091616 0.95839441\n",
      " 0.95556438 0.95252138 0.94935358 0.9461354  0.94292474 0.93976444\n",
      " 0.93668574 0.93371022 0.93085289 0.92812419]\n",
      "19 day output [[0.92553014]]\n",
      "20 day input [0.5202823  0.52931539 0.55716145 0.55419857 0.55258466 0.54682757\n",
      " 0.55159703 0.54846559 0.55595704 0.54155223 0.54302162 0.4996146\n",
      " 0.51283903 0.54622536 0.54518958 0.54215444 0.55135617 0.54759841\n",
      " 0.52326925 0.51941512 0.53456665 0.54017922 0.55097075 0.55147662\n",
      " 0.55906441 0.58091244 0.5831527  0.58763308 0.59298068 0.5808884\n",
      " 0.57257792 0.57758829 0.57542032 0.68381749 0.75234861 0.75133687\n",
      " 0.72365949 0.72074483 0.72052804 0.7166498  0.72667052 0.72606831\n",
      " 0.74861489 0.77019802 0.77405216 0.79320228 0.80486099 0.79565926\n",
      " 0.8034639  0.81025681 0.80500551 0.82796162 0.81037722 0.81666422\n",
      " 0.76417596 0.77212505 0.75425161 0.75996051 0.75670858 0.76858408\n",
      " 0.77178786 0.76415185 0.75774436 0.77104113 0.77980921 0.80223538\n",
      " 0.81153348 0.82834704 0.82523971 0.88090764 0.87486146 0.90897045\n",
      " 0.9352026  0.93893625 0.97176856 0.98629378 1.         0.99865106\n",
      " 0.96088069 0.96962467 0.96451181 0.96941596 0.96796763 0.96673536\n",
      " 0.96586436 0.96469408 0.96303862 0.96091616 0.95839441 0.95556438\n",
      " 0.95252138 0.94935358 0.9461354  0.94292474 0.93976444 0.93668574\n",
      " 0.93371022 0.93085289 0.92812419 0.92553014]\n",
      "20 day output [[0.9230739]]\n",
      "21 day input [0.52931539 0.55716145 0.55419857 0.55258466 0.54682757 0.55159703\n",
      " 0.54846559 0.55595704 0.54155223 0.54302162 0.4996146  0.51283903\n",
      " 0.54622536 0.54518958 0.54215444 0.55135617 0.54759841 0.52326925\n",
      " 0.51941512 0.53456665 0.54017922 0.55097075 0.55147662 0.55906441\n",
      " 0.58091244 0.5831527  0.58763308 0.59298068 0.5808884  0.57257792\n",
      " 0.57758829 0.57542032 0.68381749 0.75234861 0.75133687 0.72365949\n",
      " 0.72074483 0.72052804 0.7166498  0.72667052 0.72606831 0.74861489\n",
      " 0.77019802 0.77405216 0.79320228 0.80486099 0.79565926 0.8034639\n",
      " 0.81025681 0.80500551 0.82796162 0.81037722 0.81666422 0.76417596\n",
      " 0.77212505 0.75425161 0.75996051 0.75670858 0.76858408 0.77178786\n",
      " 0.76415185 0.75774436 0.77104113 0.77980921 0.80223538 0.81153348\n",
      " 0.82834704 0.82523971 0.88090764 0.87486146 0.90897045 0.9352026\n",
      " 0.93893625 0.97176856 0.98629378 1.         0.99865106 0.96088069\n",
      " 0.96962467 0.96451181 0.96941596 0.96796763 0.96673536 0.96586436\n",
      " 0.96469408 0.96303862 0.96091616 0.95839441 0.95556438 0.95252138\n",
      " 0.94935358 0.9461354  0.94292474 0.93976444 0.93668574 0.93371022\n",
      " 0.93085289 0.92812419 0.92553014 0.92307389]\n",
      "21 day output [[0.9207568]]\n",
      "22 day input [0.55716145 0.55419857 0.55258466 0.54682757 0.55159703 0.54846559\n",
      " 0.55595704 0.54155223 0.54302162 0.4996146  0.51283903 0.54622536\n",
      " 0.54518958 0.54215444 0.55135617 0.54759841 0.52326925 0.51941512\n",
      " 0.53456665 0.54017922 0.55097075 0.55147662 0.55906441 0.58091244\n",
      " 0.5831527  0.58763308 0.59298068 0.5808884  0.57257792 0.57758829\n",
      " 0.57542032 0.68381749 0.75234861 0.75133687 0.72365949 0.72074483\n",
      " 0.72052804 0.7166498  0.72667052 0.72606831 0.74861489 0.77019802\n",
      " 0.77405216 0.79320228 0.80486099 0.79565926 0.8034639  0.81025681\n",
      " 0.80500551 0.82796162 0.81037722 0.81666422 0.76417596 0.77212505\n",
      " 0.75425161 0.75996051 0.75670858 0.76858408 0.77178786 0.76415185\n",
      " 0.75774436 0.77104113 0.77980921 0.80223538 0.81153348 0.82834704\n",
      " 0.82523971 0.88090764 0.87486146 0.90897045 0.9352026  0.93893625\n",
      " 0.97176856 0.98629378 1.         0.99865106 0.96088069 0.96962467\n",
      " 0.96451181 0.96941596 0.96796763 0.96673536 0.96586436 0.96469408\n",
      " 0.96303862 0.96091616 0.95839441 0.95556438 0.95252138 0.94935358\n",
      " 0.9461354  0.94292474 0.93976444 0.93668574 0.93371022 0.93085289\n",
      " 0.92812419 0.92553014 0.92307389 0.92075682]\n",
      "22 day output [[0.918579]]\n",
      "23 day input [0.55419857 0.55258466 0.54682757 0.55159703 0.54846559 0.55595704\n",
      " 0.54155223 0.54302162 0.4996146  0.51283903 0.54622536 0.54518958\n",
      " 0.54215444 0.55135617 0.54759841 0.52326925 0.51941512 0.53456665\n",
      " 0.54017922 0.55097075 0.55147662 0.55906441 0.58091244 0.5831527\n",
      " 0.58763308 0.59298068 0.5808884  0.57257792 0.57758829 0.57542032\n",
      " 0.68381749 0.75234861 0.75133687 0.72365949 0.72074483 0.72052804\n",
      " 0.7166498  0.72667052 0.72606831 0.74861489 0.77019802 0.77405216\n",
      " 0.79320228 0.80486099 0.79565926 0.8034639  0.81025681 0.80500551\n",
      " 0.82796162 0.81037722 0.81666422 0.76417596 0.77212505 0.75425161\n",
      " 0.75996051 0.75670858 0.76858408 0.77178786 0.76415185 0.75774436\n",
      " 0.77104113 0.77980921 0.80223538 0.81153348 0.82834704 0.82523971\n",
      " 0.88090764 0.87486146 0.90897045 0.9352026  0.93893625 0.97176856\n",
      " 0.98629378 1.         0.99865106 0.96088069 0.96962467 0.96451181\n",
      " 0.96941596 0.96796763 0.96673536 0.96586436 0.96469408 0.96303862\n",
      " 0.96091616 0.95839441 0.95556438 0.95252138 0.94935358 0.9461354\n",
      " 0.94292474 0.93976444 0.93668574 0.93371022 0.93085289 0.92812419\n",
      " 0.92553014 0.92307389 0.92075682 0.91857898]\n",
      "23 day output [[0.91653913]]\n",
      "24 day input [0.55258466 0.54682757 0.55159703 0.54846559 0.55595704 0.54155223\n",
      " 0.54302162 0.4996146  0.51283903 0.54622536 0.54518958 0.54215444\n",
      " 0.55135617 0.54759841 0.52326925 0.51941512 0.53456665 0.54017922\n",
      " 0.55097075 0.55147662 0.55906441 0.58091244 0.5831527  0.58763308\n",
      " 0.59298068 0.5808884  0.57257792 0.57758829 0.57542032 0.68381749\n",
      " 0.75234861 0.75133687 0.72365949 0.72074483 0.72052804 0.7166498\n",
      " 0.72667052 0.72606831 0.74861489 0.77019802 0.77405216 0.79320228\n",
      " 0.80486099 0.79565926 0.8034639  0.81025681 0.80500551 0.82796162\n",
      " 0.81037722 0.81666422 0.76417596 0.77212505 0.75425161 0.75996051\n",
      " 0.75670858 0.76858408 0.77178786 0.76415185 0.75774436 0.77104113\n",
      " 0.77980921 0.80223538 0.81153348 0.82834704 0.82523971 0.88090764\n",
      " 0.87486146 0.90897045 0.9352026  0.93893625 0.97176856 0.98629378\n",
      " 1.         0.99865106 0.96088069 0.96962467 0.96451181 0.96941596\n",
      " 0.96796763 0.96673536 0.96586436 0.96469408 0.96303862 0.96091616\n",
      " 0.95839441 0.95556438 0.95252138 0.94935358 0.9461354  0.94292474\n",
      " 0.93976444 0.93668574 0.93371022 0.93085289 0.92812419 0.92553014\n",
      " 0.92307389 0.92075682 0.91857898 0.91653913]\n",
      "24 day output [[0.9146342]]\n",
      "25 day input [0.54682757 0.55159703 0.54846559 0.55595704 0.54155223 0.54302162\n",
      " 0.4996146  0.51283903 0.54622536 0.54518958 0.54215444 0.55135617\n",
      " 0.54759841 0.52326925 0.51941512 0.53456665 0.54017922 0.55097075\n",
      " 0.55147662 0.55906441 0.58091244 0.5831527  0.58763308 0.59298068\n",
      " 0.5808884  0.57257792 0.57758829 0.57542032 0.68381749 0.75234861\n",
      " 0.75133687 0.72365949 0.72074483 0.72052804 0.7166498  0.72667052\n",
      " 0.72606831 0.74861489 0.77019802 0.77405216 0.79320228 0.80486099\n",
      " 0.79565926 0.8034639  0.81025681 0.80500551 0.82796162 0.81037722\n",
      " 0.81666422 0.76417596 0.77212505 0.75425161 0.75996051 0.75670858\n",
      " 0.76858408 0.77178786 0.76415185 0.75774436 0.77104113 0.77980921\n",
      " 0.80223538 0.81153348 0.82834704 0.82523971 0.88090764 0.87486146\n",
      " 0.90897045 0.9352026  0.93893625 0.97176856 0.98629378 1.\n",
      " 0.99865106 0.96088069 0.96962467 0.96451181 0.96941596 0.96796763\n",
      " 0.96673536 0.96586436 0.96469408 0.96303862 0.96091616 0.95839441\n",
      " 0.95556438 0.95252138 0.94935358 0.9461354  0.94292474 0.93976444\n",
      " 0.93668574 0.93371022 0.93085289 0.92812419 0.92553014 0.92307389\n",
      " 0.92075682 0.91857898 0.91653913 0.91463423]\n",
      "25 day output [[0.91286075]]\n",
      "26 day input [0.55159703 0.54846559 0.55595704 0.54155223 0.54302162 0.4996146\n",
      " 0.51283903 0.54622536 0.54518958 0.54215444 0.55135617 0.54759841\n",
      " 0.52326925 0.51941512 0.53456665 0.54017922 0.55097075 0.55147662\n",
      " 0.55906441 0.58091244 0.5831527  0.58763308 0.59298068 0.5808884\n",
      " 0.57257792 0.57758829 0.57542032 0.68381749 0.75234861 0.75133687\n",
      " 0.72365949 0.72074483 0.72052804 0.7166498  0.72667052 0.72606831\n",
      " 0.74861489 0.77019802 0.77405216 0.79320228 0.80486099 0.79565926\n",
      " 0.8034639  0.81025681 0.80500551 0.82796162 0.81037722 0.81666422\n",
      " 0.76417596 0.77212505 0.75425161 0.75996051 0.75670858 0.76858408\n",
      " 0.77178786 0.76415185 0.75774436 0.77104113 0.77980921 0.80223538\n",
      " 0.81153348 0.82834704 0.82523971 0.88090764 0.87486146 0.90897045\n",
      " 0.9352026  0.93893625 0.97176856 0.98629378 1.         0.99865106\n",
      " 0.96088069 0.96962467 0.96451181 0.96941596 0.96796763 0.96673536\n",
      " 0.96586436 0.96469408 0.96303862 0.96091616 0.95839441 0.95556438\n",
      " 0.95252138 0.94935358 0.9461354  0.94292474 0.93976444 0.93668574\n",
      " 0.93371022 0.93085289 0.92812419 0.92553014 0.92307389 0.92075682\n",
      " 0.91857898 0.91653913 0.91463423 0.91286075]\n",
      "26 day output [[0.911215]]\n",
      "27 day input [0.54846559 0.55595704 0.54155223 0.54302162 0.4996146  0.51283903\n",
      " 0.54622536 0.54518958 0.54215444 0.55135617 0.54759841 0.52326925\n",
      " 0.51941512 0.53456665 0.54017922 0.55097075 0.55147662 0.55906441\n",
      " 0.58091244 0.5831527  0.58763308 0.59298068 0.5808884  0.57257792\n",
      " 0.57758829 0.57542032 0.68381749 0.75234861 0.75133687 0.72365949\n",
      " 0.72074483 0.72052804 0.7166498  0.72667052 0.72606831 0.74861489\n",
      " 0.77019802 0.77405216 0.79320228 0.80486099 0.79565926 0.8034639\n",
      " 0.81025681 0.80500551 0.82796162 0.81037722 0.81666422 0.76417596\n",
      " 0.77212505 0.75425161 0.75996051 0.75670858 0.76858408 0.77178786\n",
      " 0.76415185 0.75774436 0.77104113 0.77980921 0.80223538 0.81153348\n",
      " 0.82834704 0.82523971 0.88090764 0.87486146 0.90897045 0.9352026\n",
      " 0.93893625 0.97176856 0.98629378 1.         0.99865106 0.96088069\n",
      " 0.96962467 0.96451181 0.96941596 0.96796763 0.96673536 0.96586436\n",
      " 0.96469408 0.96303862 0.96091616 0.95839441 0.95556438 0.95252138\n",
      " 0.94935358 0.9461354  0.94292474 0.93976444 0.93668574 0.93371022\n",
      " 0.93085289 0.92812419 0.92553014 0.92307389 0.92075682 0.91857898\n",
      " 0.91653913 0.91463423 0.91286075 0.91121501]\n",
      "27 day output [[0.90969193]]\n",
      "28 day input [0.55595704 0.54155223 0.54302162 0.4996146  0.51283903 0.54622536\n",
      " 0.54518958 0.54215444 0.55135617 0.54759841 0.52326925 0.51941512\n",
      " 0.53456665 0.54017922 0.55097075 0.55147662 0.55906441 0.58091244\n",
      " 0.5831527  0.58763308 0.59298068 0.5808884  0.57257792 0.57758829\n",
      " 0.57542032 0.68381749 0.75234861 0.75133687 0.72365949 0.72074483\n",
      " 0.72052804 0.7166498  0.72667052 0.72606831 0.74861489 0.77019802\n",
      " 0.77405216 0.79320228 0.80486099 0.79565926 0.8034639  0.81025681\n",
      " 0.80500551 0.82796162 0.81037722 0.81666422 0.76417596 0.77212505\n",
      " 0.75425161 0.75996051 0.75670858 0.76858408 0.77178786 0.76415185\n",
      " 0.75774436 0.77104113 0.77980921 0.80223538 0.81153348 0.82834704\n",
      " 0.82523971 0.88090764 0.87486146 0.90897045 0.9352026  0.93893625\n",
      " 0.97176856 0.98629378 1.         0.99865106 0.96088069 0.96962467\n",
      " 0.96451181 0.96941596 0.96796763 0.96673536 0.96586436 0.96469408\n",
      " 0.96303862 0.96091616 0.95839441 0.95556438 0.95252138 0.94935358\n",
      " 0.9461354  0.94292474 0.93976444 0.93668574 0.93371022 0.93085289\n",
      " 0.92812419 0.92553014 0.92307389 0.92075682 0.91857898 0.91653913\n",
      " 0.91463423 0.91286075 0.91121501 0.90969193]\n",
      "28 day output [[0.90828586]]\n",
      "29 day input [0.54155223 0.54302162 0.4996146  0.51283903 0.54622536 0.54518958\n",
      " 0.54215444 0.55135617 0.54759841 0.52326925 0.51941512 0.53456665\n",
      " 0.54017922 0.55097075 0.55147662 0.55906441 0.58091244 0.5831527\n",
      " 0.58763308 0.59298068 0.5808884  0.57257792 0.57758829 0.57542032\n",
      " 0.68381749 0.75234861 0.75133687 0.72365949 0.72074483 0.72052804\n",
      " 0.7166498  0.72667052 0.72606831 0.74861489 0.77019802 0.77405216\n",
      " 0.79320228 0.80486099 0.79565926 0.8034639  0.81025681 0.80500551\n",
      " 0.82796162 0.81037722 0.81666422 0.76417596 0.77212505 0.75425161\n",
      " 0.75996051 0.75670858 0.76858408 0.77178786 0.76415185 0.75774436\n",
      " 0.77104113 0.77980921 0.80223538 0.81153348 0.82834704 0.82523971\n",
      " 0.88090764 0.87486146 0.90897045 0.9352026  0.93893625 0.97176856\n",
      " 0.98629378 1.         0.99865106 0.96088069 0.96962467 0.96451181\n",
      " 0.96941596 0.96796763 0.96673536 0.96586436 0.96469408 0.96303862\n",
      " 0.96091616 0.95839441 0.95556438 0.95252138 0.94935358 0.9461354\n",
      " 0.94292474 0.93976444 0.93668574 0.93371022 0.93085289 0.92812419\n",
      " 0.92553014 0.92307389 0.92075682 0.91857898 0.91653913 0.91463423\n",
      " 0.91286075 0.91121501 0.90969193 0.90828586]\n",
      "29 day output [[0.9069906]]\n",
      "[[0.9645118117332458], [0.9694159626960754], [0.9679676294326782], [0.9667353630065918], [0.965864360332489], [0.964694082736969], [0.9630386233329773], [0.9609161615371704], [0.9583944082260132], [0.9555643796920776], [0.9525213837623596], [0.9493535757064819], [0.946135401725769], [0.9429247379302979], [0.9397644400596619], [0.9366857409477234], [0.9337102174758911], [0.9308528900146484], [0.928124189376831], [0.9255301356315613], [0.9230738878250122], [0.9207568168640137], [0.9185789823532104], [0.9165391325950623], [0.9146342277526855], [0.9128607511520386], [0.9112150073051453], [0.9096919298171997], [0.9082858562469482], [0.9069905877113342]]\n"
     ]
    }
   ],
   "source": [
    "# demonstrate prediction for next 10 days\n",
    "from numpy import array\n",
    "\n",
    "lst_output=[]\n",
    "n_steps=100\n",
    "i=0\n",
    "while(i<30):\n",
    "    \n",
    "    if(len(temp_input)>100):\n",
    "        #print(temp_input)\n",
    "        x_input=np.array(temp_input[1:])\n",
    "        print(\"{} day input {}\".format(i,x_input))\n",
    "        x_input=x_input.reshape(1,-1)\n",
    "        x_input = x_input.reshape((1, n_steps, 1))\n",
    "        #print(x_input)\n",
    "        yhat = model.predict(x_input, verbose=0)\n",
    "        print(\"{} day output {}\".format(i,yhat))\n",
    "        temp_input.extend(yhat[0].tolist())\n",
    "        temp_input=temp_input[1:]\n",
    "        #print(temp_input)\n",
    "        lst_output.extend(yhat.tolist())\n",
    "        i=i+1\n",
    "    else:\n",
    "        x_input = x_input.reshape((1, n_steps,1))\n",
    "        yhat = model.predict(x_input, verbose=0)\n",
    "        print(yhat[0])\n",
    "        temp_input.extend(yhat[0].tolist())\n",
    "        print(len(temp_input))\n",
    "        lst_output.extend(yhat.tolist())\n",
    "        i=i+1\n",
    "    \n",
    "\n",
    "print(lst_output)"
   ]
  },
  {
   "cell_type": "code",
   "execution_count": 42,
   "metadata": {},
   "outputs": [],
   "source": [
    "day_new=np.arange(1,101)\n",
    "day_pred=np.arange(101,131)"
   ]
  },
  {
   "cell_type": "code",
   "execution_count": 43,
   "metadata": {},
   "outputs": [],
   "source": [
    "import matplotlib.pyplot as plt"
   ]
  },
  {
   "cell_type": "code",
   "execution_count": 44,
   "metadata": {},
   "outputs": [
    {
     "data": {
      "text/plain": [
       "2394"
      ]
     },
     "execution_count": 44,
     "metadata": {},
     "output_type": "execute_result"
    }
   ],
   "source": [
    "len(df1)"
   ]
  },
  {
   "cell_type": "code",
   "execution_count": null,
   "metadata": {},
   "outputs": [],
   "source": []
  },
  {
   "cell_type": "code",
   "execution_count": 45,
   "metadata": {},
   "outputs": [
    {
     "data": {
      "text/plain": [
       "[<matplotlib.lines.Line2D at 0x2870c1aa2d0>]"
      ]
     },
     "execution_count": 45,
     "metadata": {},
     "output_type": "execute_result"
    },
    {
     "data": {
      "image/png": "[encoded data removed]",
      "text/plain": [
       "<Figure size 640x480 with 1 Axes>"
      ]
     },
     "metadata": {},
     "output_type": "display_data"
    }
   ],
   "source": [
    "plt.plot(day_new,scaler.inverse_transform(df1[(len(df1)-100):]))\n",
    "plt.plot(day_pred,scaler.inverse_transform(lst_output))"
   ]
  },
  {
   "cell_type": "code",
   "execution_count": 46,
   "metadata": {},
   "outputs": [
    {
     "data": {
      "text/plain": [
       "[<matplotlib.lines.Line2D at 0x287097fb650>]"
      ]
     },
     "execution_count": 46,
     "metadata": {},
     "output_type": "execute_result"
    },
    {
     "data": {
      "image/png": "[encoded data removed]",
      "text/plain": [
       "<Figure size 640x480 with 1 Axes>"
      ]
     },
     "metadata": {},
     "output_type": "display_data"
    }
   ],
   "source": [
    "combined=df1.tolist()\n",
    "combined.extend(lst_output)\n",
    "plt.plot(combined[:])"
   ]
  },
  {
   "cell_type": "code",
   "execution_count": 47,
   "metadata": {},
   "outputs": [],
   "source": [
    "combined=scaler.inverse_transform(combined).tolist()"
   ]
  },
  {
   "cell_type": "code",
   "execution_count": 48,
   "metadata": {},
   "outputs": [
    {
     "data": {
      "text/plain": [
       "[<matplotlib.lines.Line2D at 0x28709809150>]"
      ]
     },
     "execution_count": 48,
     "metadata": {},
     "output_type": "execute_result"
    },
    {
     "data": {
      "image/png": "[encoded data removed]",
      "text/plain": [
       "<Figure size 640x480 with 1 Axes>"
      ]
     },
     "metadata": {},
     "output_type": "display_data"
    }
   ],
   "source": [
    "plt.plot(combined)"
   ]
  }
 ],
 "metadata": {
  "kernelspec": {
   "display_name": "Python 3",
   "language": "python",
   "name": "python3"
  },
  "language_info": {
   "codemirror_mode": {
    "name": "ipython",
    "version": 3
   },
   "file_extension": ".py",
   "mimetype": "text/x-python",
   "name": "python",
   "nbconvert_exporter": "python",
   "pygments_lexer": "ipython3",
   "version": "3.11.2"
  }
 },
 "nbformat": 4,
 "nbformat_minor": 2
}
